{
 "cells": [
  {
   "cell_type": "code",
   "execution_count": 1,
   "id": "32beda75",
   "metadata": {},
   "outputs": [],
   "source": [
    "# Für jede Brain region den besten layer für jedes model und davon das RDM"
   ]
  },
  {
   "cell_type": "code",
   "execution_count": 2,
   "id": "3a08190c",
   "metadata": {},
   "outputs": [],
   "source": [
    "# For every brain region (start with EVC):\n",
    "# For every model pair (CLIP-ViT, ALBEF-ViT, ViLT-ViT) - start CLIP - ViT\n",
    "# Get BEST RDM only (for BEST layer)\n",
    "#Swap rdm values of CLIP and VIT at random indices\n",
    "#Compute Spearman R of these random matrices with EVC\n",
    "#Compute the difference in the Spearman R\n",
    "#Repeat this 300 times\n",
    "#Measure how much of those 300 times the difference in Spearman R is higher than the true Spearman R difference between the models"
   ]
  },
  {
   "cell_type": "code",
   "execution_count": 3,
   "id": "9463d462",
   "metadata": {},
   "outputs": [],
   "source": [
    "# => für EVC hab ich am Ende nur 4 Zahlen. Die Tabelle mache ich dann aus allen brain regions"
   ]
  },
  {
   "cell_type": "code",
   "execution_count": 69,
   "id": "5cfdbf56",
   "metadata": {},
   "outputs": [],
   "source": [
    "import pickle\n",
    "import pandas as pd\n",
    "file_path = 'BestImageLayers.pkl'\n",
    "\n",
    "# Load the dictionary from the file using Pickle\n",
    "with open(file_path, 'rb') as file:\n",
    "    best_image_layers = pickle.load(file)"
   ]
  },
  {
   "cell_type": "code",
   "execution_count": 7,
   "id": "2b6c1c86",
   "metadata": {},
   "outputs": [
    {
     "data": {
      "text/plain": [
       "{'Albef Image': [('ALBEF Image Layer 7', 0.1925618419983465)],\n",
       " 'Albef Multi': [('ALBEF Multi Layer 5', 0.06968936032508571)],\n",
       " 'Vilt': [('VILT Layer 2', 0.10703017123425258)],\n",
       " 'Clip': [('CLIP Image Layer 6', 0.24472337806853633)],\n",
       " 'Vit': [('Vit Layer 10', 0.1913886562695591)]}"
      ]
     },
     "execution_count": 7,
     "metadata": {},
     "output_type": "execute_result"
    }
   ],
   "source": [
    "evc = best_image_layers['EVC']\n",
    "evc"
   ]
  },
  {
   "cell_type": "code",
   "execution_count": 28,
   "id": "ebe7b50a",
   "metadata": {},
   "outputs": [
    {
     "name": "stdout",
     "output_type": "stream",
     "text": [
      "The autoreload extension is already loaded. To reload it, use:\n",
      "  %reload_ext autoreload\n"
     ]
    }
   ],
   "source": [
    "import os\n",
    "import torch\n",
    "from scipy.spatial.distance import pdist, squareform\n",
    "from scipy import stats\n",
    "import sys\n",
    "sys.path.append(\"/Users/sebastian/University/Bachelor/Thesis/ba-thesis/\")\n",
    "from utils import load_files, get_rdms, get_rdm, get_spearmanr, inter_intra_similarity, get_upper_triu\n",
    "%load_ext autoreload\n",
    "%autoreload 2"
   ]
  },
  {
   "cell_type": "code",
   "execution_count": 9,
   "id": "b4c95c47",
   "metadata": {},
   "outputs": [],
   "source": [
    "def load_tensors(directory):\n",
    "    d = {}\n",
    "    for key in os.listdir(directory):\n",
    "        if key.endswith(\".pt\"):\n",
    "            filename = os.path.join(directory, key)\n",
    "            tensor = torch.load(filename)\n",
    "            d[key[:-3]] = tensor\n",
    "    return d"
   ]
  },
  {
   "cell_type": "code",
   "execution_count": 22,
   "id": "d48fd949",
   "metadata": {},
   "outputs": [],
   "source": [
    "def get_spearmanr_between_tensors(tensor1, tensor2, size):\n",
    "    v1 = get_upper_triu(tensor1, size)\n",
    "    v2 = get_upper_triu(tensor2, size)\n",
    "    res = stats.spearmanr(v1, v2)\n",
    "    return res.correlation"
   ]
  },
  {
   "cell_type": "code",
   "execution_count": 10,
   "id": "c86bc746",
   "metadata": {},
   "outputs": [],
   "source": [
    "avg = load_tensors(\"avg/\")\n",
    "clip_img = load_tensors(\"sclip_img_rdms/\")\n",
    "albef_img = load_tensors(\"salbef_img_rdms/\")\n",
    "albef_multi = load_tensors(\"salbef_multi_rdms/\")\n",
    "vilt = load_tensors(\"svilt_rdms/\")\n",
    "vit = load_tensors(\"svit_rdms/\")"
   ]
  },
  {
   "cell_type": "code",
   "execution_count": 76,
   "id": "fff8fb49",
   "metadata": {},
   "outputs": [],
   "source": [
    "avg_evc = avg['EVC']"
   ]
  },
  {
   "cell_type": "code",
   "execution_count": 75,
   "id": "0cdd1da7",
   "metadata": {},
   "outputs": [],
   "source": [
    "best_vit_layer = vit[evc['Vit'][0][0]]\n",
    "best_clip_layer = clip_img[evc['Clip'][0][0]]"
   ]
  },
  {
   "cell_type": "code",
   "execution_count": 37,
   "id": "9e53249b",
   "metadata": {},
   "outputs": [],
   "source": [
    "def get_random_indices(size, amount_of_changed_idx):\n",
    "    rand_arr = np.random.choice(np.arange(0, size-1), replace=False, size=amount_of_changed_idx)\n",
    "    return rand_arr"
   ]
  },
  {
   "cell_type": "code",
   "execution_count": 105,
   "id": "bc500c0e",
   "metadata": {},
   "outputs": [],
   "source": [
    "def permutation_test(model1_layer, model2_layer, roi):\n",
    "    np.random.seed(0)\n",
    "    l = []\n",
    "    roi_flat = get_upper_triu(roi, 81)\n",
    "    model1_layer_flat = get_upper_triu(model1_layer, 81)\n",
    "    model2_layer_flat = get_upper_triu(model2_layer, 81)\n",
    "    corr_model1 = stats.spearmanr(model1_layer_flat, roi_flat).correlation\n",
    "    corr_model2 = stats.spearmanr(model2_layer_flat, roi_flat).correlation\n",
    "    p_true = corr_model1 - corr_model2\n",
    "    for i in range(1000):\n",
    "        rand_int = np.random.randint(3240)\n",
    "        rand_arr = get_random_indices(3240, rand_int)\n",
    "        model1_layer_flat = get_upper_triu(model1_layer, 81)\n",
    "        model2_layer_flat = get_upper_triu(model2_layer, 81)\n",
    "        model1_layer_flat[rand_arr], model2_layer_flat[rand_arr] = model2_layer_flat[rand_arr], model1_layer_flat[rand_arr]\n",
    "        corr_model1 = stats.spearmanr(model1_layer_flat, roi_flat).correlation\n",
    "        corr_model2 = stats.spearmanr(model2_layer_flat, roi_flat).correlation\n",
    "        l.append(corr_model1-corr_model2)\n",
    "    return p_true, l"
   ]
  },
  {
   "cell_type": "code",
   "execution_count": 125,
   "id": "15163912",
   "metadata": {},
   "outputs": [],
   "source": [
    "def permutation_df(list_of_rows, rdm_mod1, rdm_mod2, name_mod1, name_mod2, best_img_layers_all_regions):\n",
    "    list_of_columns = avg.keys()\n",
    "\n",
    "    df = pd.DataFrame(index=list_of_rows, columns=list_of_columns)\n",
    "\n",
    "    for k, v in sorted(avg.items()):\n",
    "        avg_roi = avg[k]\n",
    "        best_layers = best_img_layers_all_regions[k]\n",
    "        mod2_layer_name = best_layers[name_mod2][0][0]\n",
    "        mod1_layer_name = best_layers[name_mod1][0][0]\n",
    "        best_mod2_layer = rdm_mod2[mod2_layer_name]\n",
    "        best_mod1_layer = rdm_mod1[mod1_layer_name]\n",
    "        p_true, l = permutation_test(best_mod1_layer, best_mod2_layer, avg_roi)\n",
    "        # filter with broadcasting the amount of values that are GREATER than the true SPEARMAN R\n",
    "        count_of_greater_values = np.sum(l > p_true) / 1000\n",
    "        df[k] = np.array([mod1_layer_name, mod2_layer_name, p_true, count_of_greater_values])\n",
    "    return df"
   ]
  },
  {
   "cell_type": "code",
   "execution_count": 126,
   "id": "73691b95",
   "metadata": {},
   "outputs": [
    {
     "data": {
      "text/html": [
       "<div>\n",
       "<style scoped>\n",
       "    .dataframe tbody tr th:only-of-type {\n",
       "        vertical-align: middle;\n",
       "    }\n",
       "\n",
       "    .dataframe tbody tr th {\n",
       "        vertical-align: top;\n",
       "    }\n",
       "\n",
       "    .dataframe thead th {\n",
       "        text-align: right;\n",
       "    }\n",
       "</style>\n",
       "<table border=\"1\" class=\"dataframe\">\n",
       "  <thead>\n",
       "    <tr style=\"text-align: right;\">\n",
       "      <th></th>\n",
       "      <th>PPA</th>\n",
       "      <th>RSC</th>\n",
       "      <th>PFS</th>\n",
       "      <th>OPA</th>\n",
       "      <th>LOC</th>\n",
       "      <th>EVC</th>\n",
       "    </tr>\n",
       "  </thead>\n",
       "  <tbody>\n",
       "    <tr>\n",
       "      <th>Layer CLIP</th>\n",
       "      <td>CLIP Image Layer 12</td>\n",
       "      <td>CLIP Image Layer 11</td>\n",
       "      <td>CLIP Image Layer 4</td>\n",
       "      <td>CLIP Image Layer 12</td>\n",
       "      <td>CLIP Image Layer 8</td>\n",
       "      <td>CLIP Image Layer 6</td>\n",
       "    </tr>\n",
       "    <tr>\n",
       "      <th>Layer ViT</th>\n",
       "      <td>Vit Layer 11</td>\n",
       "      <td>Vit Layer 11</td>\n",
       "      <td>Vit Layer 10</td>\n",
       "      <td>Vit Layer 11</td>\n",
       "      <td>Vit Layer 10</td>\n",
       "      <td>Vit Layer 10</td>\n",
       "    </tr>\n",
       "    <tr>\n",
       "      <th>Difference</th>\n",
       "      <td>0.08756202674958763</td>\n",
       "      <td>0.09881575989159258</td>\n",
       "      <td>-0.005148496160707616</td>\n",
       "      <td>0.053258540357657036</td>\n",
       "      <td>-0.008294526311312833</td>\n",
       "      <td>0.05333472179897725</td>\n",
       "    </tr>\n",
       "    <tr>\n",
       "      <th>Permutation Test Val</th>\n",
       "      <td>0.027</td>\n",
       "      <td>0.021</td>\n",
       "      <td>0.642</td>\n",
       "      <td>0.059</td>\n",
       "      <td>0.655</td>\n",
       "      <td>0.083</td>\n",
       "    </tr>\n",
       "  </tbody>\n",
       "</table>\n",
       "</div>"
      ],
      "text/plain": [
       "                                      PPA                  RSC  \\\n",
       "Layer CLIP            CLIP Image Layer 12  CLIP Image Layer 11   \n",
       "Layer ViT                    Vit Layer 11         Vit Layer 11   \n",
       "Difference            0.08756202674958763  0.09881575989159258   \n",
       "Permutation Test Val                0.027                0.021   \n",
       "\n",
       "                                        PFS                   OPA  \\\n",
       "Layer CLIP               CLIP Image Layer 4   CLIP Image Layer 12   \n",
       "Layer ViT                      Vit Layer 10          Vit Layer 11   \n",
       "Difference            -0.005148496160707616  0.053258540357657036   \n",
       "Permutation Test Val                  0.642                 0.059   \n",
       "\n",
       "                                        LOC                  EVC  \n",
       "Layer CLIP               CLIP Image Layer 8   CLIP Image Layer 6  \n",
       "Layer ViT                      Vit Layer 10         Vit Layer 10  \n",
       "Difference            -0.008294526311312833  0.05333472179897725  \n",
       "Permutation Test Val                  0.655                0.083  "
      ]
     },
     "execution_count": 126,
     "metadata": {},
     "output_type": "execute_result"
    }
   ],
   "source": [
    "list_of_rows = ['Layer CLIP', 'Layer ViT', 'Difference', 'Permutation Test Val']\n",
    "df = permutation_df(list_of_rows, clip_img, vit, 'Clip', 'Vit', best_image_layers)\n",
    "df"
   ]
  },
  {
   "cell_type": "code",
   "execution_count": 127,
   "id": "f3692e05",
   "metadata": {},
   "outputs": [
    {
     "data": {
      "text/html": [
       "<div>\n",
       "<style scoped>\n",
       "    .dataframe tbody tr th:only-of-type {\n",
       "        vertical-align: middle;\n",
       "    }\n",
       "\n",
       "    .dataframe tbody tr th {\n",
       "        vertical-align: top;\n",
       "    }\n",
       "\n",
       "    .dataframe thead th {\n",
       "        text-align: right;\n",
       "    }\n",
       "</style>\n",
       "<table border=\"1\" class=\"dataframe\">\n",
       "  <thead>\n",
       "    <tr style=\"text-align: right;\">\n",
       "      <th></th>\n",
       "      <th>PPA</th>\n",
       "      <th>RSC</th>\n",
       "      <th>PFS</th>\n",
       "      <th>OPA</th>\n",
       "      <th>LOC</th>\n",
       "      <th>EVC</th>\n",
       "    </tr>\n",
       "  </thead>\n",
       "  <tbody>\n",
       "    <tr>\n",
       "      <th>Layer ALBEF</th>\n",
       "      <td>ALBEF Image Layer 11</td>\n",
       "      <td>ALBEF Image Layer 11</td>\n",
       "      <td>ALBEF Image Layer 8</td>\n",
       "      <td>ALBEF Image Layer 11</td>\n",
       "      <td>ALBEF Image Layer 8</td>\n",
       "      <td>ALBEF Image Layer 7</td>\n",
       "    </tr>\n",
       "    <tr>\n",
       "      <th>Layer ViT</th>\n",
       "      <td>Vit Layer 11</td>\n",
       "      <td>Vit Layer 11</td>\n",
       "      <td>Vit Layer 10</td>\n",
       "      <td>Vit Layer 11</td>\n",
       "      <td>Vit Layer 10</td>\n",
       "      <td>Vit Layer 10</td>\n",
       "    </tr>\n",
       "    <tr>\n",
       "      <th>Difference</th>\n",
       "      <td>0.05779719900888941</td>\n",
       "      <td>0.04693386342703487</td>\n",
       "      <td>0.0037250839012841763</td>\n",
       "      <td>0.03818002291479897</td>\n",
       "      <td>-0.004380771401296779</td>\n",
       "      <td>0.0011731857287874126</td>\n",
       "    </tr>\n",
       "    <tr>\n",
       "      <th>Permutation Test Val</th>\n",
       "      <td>0.051</td>\n",
       "      <td>0.074</td>\n",
       "      <td>0.453</td>\n",
       "      <td>0.104</td>\n",
       "      <td>0.592</td>\n",
       "      <td>0.456</td>\n",
       "    </tr>\n",
       "  </tbody>\n",
       "</table>\n",
       "</div>"
      ],
      "text/plain": [
       "                                       PPA                   RSC  \\\n",
       "Layer ALBEF           ALBEF Image Layer 11  ALBEF Image Layer 11   \n",
       "Layer ViT                     Vit Layer 11          Vit Layer 11   \n",
       "Difference             0.05779719900888941   0.04693386342703487   \n",
       "Permutation Test Val                 0.051                 0.074   \n",
       "\n",
       "                                        PFS                   OPA  \\\n",
       "Layer ALBEF             ALBEF Image Layer 8  ALBEF Image Layer 11   \n",
       "Layer ViT                      Vit Layer 10          Vit Layer 11   \n",
       "Difference            0.0037250839012841763   0.03818002291479897   \n",
       "Permutation Test Val                  0.453                 0.104   \n",
       "\n",
       "                                        LOC                    EVC  \n",
       "Layer ALBEF             ALBEF Image Layer 8    ALBEF Image Layer 7  \n",
       "Layer ViT                      Vit Layer 10           Vit Layer 10  \n",
       "Difference            -0.004380771401296779  0.0011731857287874126  \n",
       "Permutation Test Val                  0.592                  0.456  "
      ]
     },
     "execution_count": 127,
     "metadata": {},
     "output_type": "execute_result"
    }
   ],
   "source": [
    "list_of_rows = ['Layer ALBEF', 'Layer ViT', 'Difference', 'Permutation Test Val']\n",
    "df = permutation_df(list_of_rows, albef_img, vit, 'Albef Image', 'Vit', best_image_layers)\n",
    "df"
   ]
  },
  {
   "cell_type": "code",
   "execution_count": 128,
   "id": "6631cb01",
   "metadata": {},
   "outputs": [
    {
     "data": {
      "text/html": [
       "<div>\n",
       "<style scoped>\n",
       "    .dataframe tbody tr th:only-of-type {\n",
       "        vertical-align: middle;\n",
       "    }\n",
       "\n",
       "    .dataframe tbody tr th {\n",
       "        vertical-align: top;\n",
       "    }\n",
       "\n",
       "    .dataframe thead th {\n",
       "        text-align: right;\n",
       "    }\n",
       "</style>\n",
       "<table border=\"1\" class=\"dataframe\">\n",
       "  <thead>\n",
       "    <tr style=\"text-align: right;\">\n",
       "      <th></th>\n",
       "      <th>PPA</th>\n",
       "      <th>RSC</th>\n",
       "      <th>PFS</th>\n",
       "      <th>OPA</th>\n",
       "      <th>LOC</th>\n",
       "      <th>EVC</th>\n",
       "    </tr>\n",
       "  </thead>\n",
       "  <tbody>\n",
       "    <tr>\n",
       "      <th>Layer ALBEF</th>\n",
       "      <td>ALBEF Multi Layer 5</td>\n",
       "      <td>ALBEF Multi Layer 5</td>\n",
       "      <td>ALBEF Multi Layer 5</td>\n",
       "      <td>ALBEF Multi Layer 5</td>\n",
       "      <td>ALBEF Multi Layer 5</td>\n",
       "      <td>ALBEF Multi Layer 5</td>\n",
       "    </tr>\n",
       "    <tr>\n",
       "      <th>Layer ViT</th>\n",
       "      <td>Vit Layer 11</td>\n",
       "      <td>Vit Layer 11</td>\n",
       "      <td>Vit Layer 10</td>\n",
       "      <td>Vit Layer 11</td>\n",
       "      <td>Vit Layer 10</td>\n",
       "      <td>Vit Layer 10</td>\n",
       "    </tr>\n",
       "    <tr>\n",
       "      <th>Difference</th>\n",
       "      <td>-0.0288994481993948</td>\n",
       "      <td>-0.010203293999788782</td>\n",
       "      <td>-0.0817386044744701</td>\n",
       "      <td>-0.03083576398614435</td>\n",
       "      <td>-0.11214504771431458</td>\n",
       "      <td>-0.12169929594447337</td>\n",
       "    </tr>\n",
       "    <tr>\n",
       "      <th>Permutation Test Val</th>\n",
       "      <td>0.876</td>\n",
       "      <td>0.725</td>\n",
       "      <td>0.964</td>\n",
       "      <td>0.876</td>\n",
       "      <td>0.982</td>\n",
       "      <td>0.983</td>\n",
       "    </tr>\n",
       "  </tbody>\n",
       "</table>\n",
       "</div>"
      ],
      "text/plain": [
       "                                      PPA                    RSC  \\\n",
       "Layer ALBEF           ALBEF Multi Layer 5    ALBEF Multi Layer 5   \n",
       "Layer ViT                    Vit Layer 11           Vit Layer 11   \n",
       "Difference            -0.0288994481993948  -0.010203293999788782   \n",
       "Permutation Test Val                0.876                  0.725   \n",
       "\n",
       "                                      PFS                   OPA  \\\n",
       "Layer ALBEF           ALBEF Multi Layer 5   ALBEF Multi Layer 5   \n",
       "Layer ViT                    Vit Layer 10          Vit Layer 11   \n",
       "Difference            -0.0817386044744701  -0.03083576398614435   \n",
       "Permutation Test Val                0.964                 0.876   \n",
       "\n",
       "                                       LOC                   EVC  \n",
       "Layer ALBEF            ALBEF Multi Layer 5   ALBEF Multi Layer 5  \n",
       "Layer ViT                     Vit Layer 10          Vit Layer 10  \n",
       "Difference            -0.11214504771431458  -0.12169929594447337  \n",
       "Permutation Test Val                 0.982                 0.983  "
      ]
     },
     "execution_count": 128,
     "metadata": {},
     "output_type": "execute_result"
    }
   ],
   "source": [
    "list_of_rows = ['Layer ALBEF', 'Layer ViT', 'Difference', 'Permutation Test Val']\n",
    "df = permutation_df(list_of_rows, albef_multi, vit, 'Albef Multi', 'Vit', best_image_layers)\n",
    "df"
   ]
  },
  {
   "cell_type": "code",
   "execution_count": 129,
   "id": "3bce23b0",
   "metadata": {},
   "outputs": [
    {
     "data": {
      "text/html": [
       "<div>\n",
       "<style scoped>\n",
       "    .dataframe tbody tr th:only-of-type {\n",
       "        vertical-align: middle;\n",
       "    }\n",
       "\n",
       "    .dataframe tbody tr th {\n",
       "        vertical-align: top;\n",
       "    }\n",
       "\n",
       "    .dataframe thead th {\n",
       "        text-align: right;\n",
       "    }\n",
       "</style>\n",
       "<table border=\"1\" class=\"dataframe\">\n",
       "  <thead>\n",
       "    <tr style=\"text-align: right;\">\n",
       "      <th></th>\n",
       "      <th>PPA</th>\n",
       "      <th>RSC</th>\n",
       "      <th>PFS</th>\n",
       "      <th>OPA</th>\n",
       "      <th>LOC</th>\n",
       "      <th>EVC</th>\n",
       "    </tr>\n",
       "  </thead>\n",
       "  <tbody>\n",
       "    <tr>\n",
       "      <th>Layer Vilt</th>\n",
       "      <td>VILT Layer 2</td>\n",
       "      <td>VILT Layer 2</td>\n",
       "      <td>VILT Layer 10</td>\n",
       "      <td>VILT Layer 2</td>\n",
       "      <td>VILT Layer 12</td>\n",
       "      <td>VILT Layer 2</td>\n",
       "    </tr>\n",
       "    <tr>\n",
       "      <th>Layer ViT</th>\n",
       "      <td>Vit Layer 11</td>\n",
       "      <td>Vit Layer 11</td>\n",
       "      <td>Vit Layer 10</td>\n",
       "      <td>Vit Layer 11</td>\n",
       "      <td>Vit Layer 10</td>\n",
       "      <td>Vit Layer 10</td>\n",
       "    </tr>\n",
       "    <tr>\n",
       "      <th>Difference</th>\n",
       "      <td>-0.01858392677326609</td>\n",
       "      <td>-0.007939106414291075</td>\n",
       "      <td>-0.08246925550062201</td>\n",
       "      <td>-0.003723643007425892</td>\n",
       "      <td>-0.1176200389921261</td>\n",
       "      <td>-0.0843584850353065</td>\n",
       "    </tr>\n",
       "    <tr>\n",
       "      <th>Permutation Test Val</th>\n",
       "      <td>0.784</td>\n",
       "      <td>0.651</td>\n",
       "      <td>0.967</td>\n",
       "      <td>0.566</td>\n",
       "      <td>0.982</td>\n",
       "      <td>0.968</td>\n",
       "    </tr>\n",
       "  </tbody>\n",
       "</table>\n",
       "</div>"
      ],
      "text/plain": [
       "                                       PPA                    RSC  \\\n",
       "Layer Vilt                    VILT Layer 2           VILT Layer 2   \n",
       "Layer ViT                     Vit Layer 11           Vit Layer 11   \n",
       "Difference            -0.01858392677326609  -0.007939106414291075   \n",
       "Permutation Test Val                 0.784                  0.651   \n",
       "\n",
       "                                       PFS                    OPA  \\\n",
       "Layer Vilt                   VILT Layer 10           VILT Layer 2   \n",
       "Layer ViT                     Vit Layer 10           Vit Layer 11   \n",
       "Difference            -0.08246925550062201  -0.003723643007425892   \n",
       "Permutation Test Val                 0.967                  0.566   \n",
       "\n",
       "                                      LOC                  EVC  \n",
       "Layer Vilt                  VILT Layer 12         VILT Layer 2  \n",
       "Layer ViT                    Vit Layer 10         Vit Layer 10  \n",
       "Difference            -0.1176200389921261  -0.0843584850353065  \n",
       "Permutation Test Val                0.982                0.968  "
      ]
     },
     "execution_count": 129,
     "metadata": {},
     "output_type": "execute_result"
    }
   ],
   "source": [
    "list_of_rows = ['Layer Vilt', 'Layer ViT', 'Difference', 'Permutation Test Val']\n",
    "df = permutation_df(list_of_rows, vilt, vit, 'Vilt', 'Vit', best_image_layers)\n",
    "df"
   ]
  },
  {
   "cell_type": "code",
   "execution_count": null,
   "id": "46ce1b11",
   "metadata": {},
   "outputs": [],
   "source": []
  }
 ],
 "metadata": {
  "kernelspec": {
   "display_name": "Python 3 (ipykernel)",
   "language": "python",
   "name": "python3"
  },
  "language_info": {
   "codemirror_mode": {
    "name": "ipython",
    "version": 3
   },
   "file_extension": ".py",
   "mimetype": "text/x-python",
   "name": "python",
   "nbconvert_exporter": "python",
   "pygments_lexer": "ipython3",
   "version": "3.9.15"
  }
 },
 "nbformat": 4,
 "nbformat_minor": 5
}
