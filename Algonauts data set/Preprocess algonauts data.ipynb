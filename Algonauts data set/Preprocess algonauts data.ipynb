{
 "cells": [
  {
   "cell_type": "code",
   "execution_count": 15,
   "id": "47d9e5cf",
   "metadata": {},
   "outputs": [],
   "source": [
    "import os\n",
    "import numpy as np\n",
    "from pathlib import Path\n",
    "from PIL import Image\n",
    "from tqdm import tqdm\n",
    "import matplotlib\n",
    "from matplotlib import pyplot as plt\n",
    "from nilearn import datasets\n",
    "from nilearn import plotting\n",
    "import torch\n",
    "from torch.utils.data import DataLoader, Dataset\n",
    "from torchvision.models.feature_extraction import create_feature_extractor, get_graph_node_names\n",
    "from torchvision import transforms\n",
    "from sklearn.decomposition import IncrementalPCA\n",
    "from sklearn.linear_model import LinearRegression\n",
    "from scipy.stats import pearsonr as corr\n",
    "import re\n",
    "import shutil"
   ]
  },
  {
   "cell_type": "code",
   "execution_count": 16,
   "id": "93372f01",
   "metadata": {},
   "outputs": [],
   "source": [
    "# Get list of all indeces that are from shared 1000 images"
   ]
  },
  {
   "cell_type": "code",
   "execution_count": 17,
   "id": "43873117",
   "metadata": {},
   "outputs": [],
   "source": [
    "file_list = os.listdir(\"shared1000\")"
   ]
  },
  {
   "cell_type": "code",
   "execution_count": 18,
   "id": "8f90edd7",
   "metadata": {},
   "outputs": [],
   "source": [
    "pattern = r'_nsd(\\d+)\\.png'\n",
    "nsd_parts = [re.search(pattern, filename).group(1) for filename in file_list]"
   ]
  },
  {
   "cell_type": "code",
   "execution_count": 19,
   "id": "b630627d",
   "metadata": {},
   "outputs": [],
   "source": [
    "# for some odd reason all the nsd_idx were 1 higher than their corresponding idx in the subjects"
   ]
  },
  {
   "cell_type": "code",
   "execution_count": 20,
   "id": "ec0b2eb4",
   "metadata": {},
   "outputs": [],
   "source": [
    "nsd_parts = [int(i) for i in nsd_parts]"
   ]
  },
  {
   "cell_type": "code",
   "execution_count": 21,
   "id": "2defa267",
   "metadata": {},
   "outputs": [],
   "source": [
    "nsd_parts = [i-1 for i in nsd_parts]"
   ]
  },
  {
   "cell_type": "code",
   "execution_count": 22,
   "id": "6fe2c1df",
   "metadata": {},
   "outputs": [],
   "source": [
    "nsd_parts = [str(i) for i in nsd_parts]"
   ]
  },
  {
   "cell_type": "code",
   "execution_count": 23,
   "id": "d135c7e8",
   "metadata": {},
   "outputs": [],
   "source": [
    "nsd_parts = [s.zfill(5) for s in nsd_parts]"
   ]
  },
  {
   "cell_type": "code",
   "execution_count": 24,
   "id": "4370ee4f",
   "metadata": {},
   "outputs": [],
   "source": [
    "nsd_parts = sorted(nsd_parts)"
   ]
  },
  {
   "cell_type": "code",
   "execution_count": 25,
   "id": "071ac0ee",
   "metadata": {},
   "outputs": [
    {
     "data": {
      "text/plain": [
       "(['02950',\n",
       "  '02990',\n",
       "  '03049',\n",
       "  '03077',\n",
       "  '03146',\n",
       "  '03157',\n",
       "  '03164',\n",
       "  '03171',\n",
       "  '03181',\n",
       "  '03386'],\n",
       " 1000)"
      ]
     },
     "execution_count": 25,
     "metadata": {},
     "output_type": "execute_result"
    }
   ],
   "source": [
    "nsd_parts[:10], len(nsd_parts)"
   ]
  },
  {
   "cell_type": "code",
   "execution_count": 26,
   "id": "7c8eea09",
   "metadata": {},
   "outputs": [],
   "source": [
    "shared1000 = set(nsd_parts)"
   ]
  },
  {
   "cell_type": "code",
   "execution_count": 27,
   "id": "5a3e818b",
   "metadata": {},
   "outputs": [],
   "source": [
    "def filter_fmri_and_images(dir_path_img, dir_path_lh, dir_path_rh, shared1000):\n",
    "    sub_files = sorted(os.listdir(dir_path_img))\n",
    "    pattern = r'_nsd-(\\d+)\\.png'\n",
    "    nsd_parts = [re.search(pattern, filename).group(1) for filename in sub_files]\n",
    "    to_be_kept_indices = [i for i, x in enumerate(nsd_parts) if x in shared1000]\n",
    "    updated_img_files = [sub_files[idx] for idx in to_be_kept_indices]\n",
    "    lh_fmri = np.load(dir_path_lh)\n",
    "    rh_fmri = np.load(dir_path_rh)\n",
    "    lh_fmri = lh_fmri[to_be_kept_indices]\n",
    "    rh_fmri = rh_fmri[to_be_kept_indices]\n",
    "    return updated_img_files, lh_fmri, rh_fmri"
   ]
  },
  {
   "cell_type": "code",
   "execution_count": 30,
   "id": "ec646174",
   "metadata": {},
   "outputs": [],
   "source": [
    "def update_files(base_path, dest, shared1000):\n",
    "    img_path = base_path + \"training_images\"\n",
    "    lh_fmri_path = base_path + \"training_fmri/lh_training_fmri.npy\"\n",
    "    rh_frmi_path = base_path + \"training_fmri/rh_training_fmri.npy\"\n",
    "    \n",
    "    os.makedirs(dest, exist_ok=True)\n",
    "    os.makedirs(dest + \"img/\", exist_ok=True)\n",
    "    dest_img = dest + \"img/\"\n",
    "    upd_img_files, lh_fmri, rh_fmri = filter_fmri_and_images(img_path, lh_fmri_path, rh_frmi_path, shared1000)\n",
    "    \n",
    "    for img in upd_img_files:\n",
    "        source_path = os.path.join(img_path, img)\n",
    "        \n",
    "        destination_path = os.path.join(dest_img, img)\n",
    "        shutil.move(source_path, destination_path)\n",
    "\n",
    "    np.save(dest + \"lh_fmri.npy\", lh_fmri)\n",
    "    np.save(dest + \"rh_fmri.npy\", rh_fmri)"
   ]
  },
  {
   "cell_type": "code",
   "execution_count": 32,
   "id": "4e430a95",
   "metadata": {},
   "outputs": [],
   "source": [
    "base_path = \"algonauts_data/subj01/training_split/\"\n",
    "dest = \"algonauts_data/subj01/updated/\""
   ]
  },
  {
   "cell_type": "code",
   "execution_count": 33,
   "id": "7eea9174",
   "metadata": {},
   "outputs": [],
   "source": [
    "update_files(base_path, dest, shared1000)"
   ]
  },
  {
   "cell_type": "code",
   "execution_count": 122,
   "id": "21f7b36e",
   "metadata": {},
   "outputs": [
    {
     "name": "stdout",
     "output_type": "stream",
     "text": [
      "Subject 2 done\n",
      "Subject 3 done\n",
      "Subject 4 done\n",
      "Subject 5 done\n",
      "Subject 6 done\n",
      "Subject 7 done\n",
      "Subject 8 done\n"
     ]
    }
   ],
   "source": [
    "for subject_num in range(2,9):\n",
    "    base_path = f\"algonauts_data/subj0{subject_num}/training_split/\"\n",
    "    dest = f\"algonauts_data/subj0{subject_num}/updated/\"\n",
    "    update_files(base_path, dest, shared1000)\n",
    "    print(f\"Subject {subject_num} done\")"
   ]
  },
  {
   "cell_type": "code",
   "execution_count": 34,
   "id": "aba4d809",
   "metadata": {},
   "outputs": [
    {
     "data": {
      "text/plain": [
       "['subj01',\n",
       " 'subj02',\n",
       " 'subj03',\n",
       " 'subj04',\n",
       " 'subj05',\n",
       " 'subj06',\n",
       " 'subj07',\n",
       " 'subj08']"
      ]
     },
     "execution_count": 34,
     "metadata": {},
     "output_type": "execute_result"
    }
   ],
   "source": [
    "all_sub = [f\"subj0{i}\" for i in range(1,9)]\n",
    "all_sub"
   ]
  },
  {
   "cell_type": "code",
   "execution_count": 70,
   "id": "fef11fe2",
   "metadata": {},
   "outputs": [],
   "source": [
    "l_nsd = []\n",
    "l_full = []\n",
    "for subj in all_sub:\n",
    "    img_dir_upd = f\"algonauts_data/{subj}/updated/img\"\n",
    "    img_files = sorted(os.listdir(img_dir_upd))\n",
    "    img_files = [filename for filename in img_files if filename.lower().endswith('.png')]\n",
    "    pattern = r'_nsd-(\\d+)\\.png'\n",
    "    nsd_img_files = [re.search(pattern, filename).group(1) for filename in img_files]\n",
    "    l_nsd.append(nsd_img_files)\n",
    "    l_full.append(img_files)"
   ]
  },
  {
   "cell_type": "code",
   "execution_count": 71,
   "id": "59eb6e76",
   "metadata": {},
   "outputs": [
    {
     "data": {
      "text/plain": [
       "['02950', '02990']"
      ]
     },
     "execution_count": 71,
     "metadata": {},
     "output_type": "execute_result"
    }
   ],
   "source": [
    "l_nsd[1][:2]"
   ]
  },
  {
   "cell_type": "code",
   "execution_count": 72,
   "id": "8976e7df",
   "metadata": {},
   "outputs": [],
   "source": [
    "# delete from lh_fmri according to number in img path of the onmes i keep"
   ]
  },
  {
   "cell_type": "code",
   "execution_count": 89,
   "id": "fad1f84f",
   "metadata": {},
   "outputs": [],
   "source": [
    "set1 = set(l_nsd[0])\n",
    "set2 = set(l_nsd[1])\n",
    "set3 = set(l_nsd[2])\n",
    "set4 = set(l_nsd[3])\n",
    "set5 = set(l_nsd[4])\n",
    "set6 = set(l_nsd[5])\n",
    "set7 = set(l_nsd[6])\n",
    "set8 = set(l_nsd[7])"
   ]
  },
  {
   "cell_type": "code",
   "execution_count": 90,
   "id": "34b9e8f2",
   "metadata": {},
   "outputs": [
    {
     "data": {
      "text/plain": [
       "872"
      ]
     },
     "execution_count": 90,
     "metadata": {},
     "output_type": "execute_result"
    }
   ],
   "source": [
    "common_elements2 = set1.intersection(set2, set3, set4, set5, set6, set7, set8)\n",
    "len(common_elements2)"
   ]
  },
  {
   "cell_type": "code",
   "execution_count": 46,
   "id": "f96c8ece",
   "metadata": {},
   "outputs": [
    {
     "data": {
      "text/plain": [
       "['02950', '02990']"
      ]
     },
     "execution_count": 46,
     "metadata": {},
     "output_type": "execute_result"
    }
   ],
   "source": [
    "sets = [set(lst) for lst in l_nsd]\n",
    "\n",
    "# Find the intersection of all sets using the 'intersection' method\n",
    "common_elements = set.intersection(*sets)\n",
    "\n",
    "# Convert the result back to a list\n",
    "common_elements_list = sorted(list(common_elements))\n",
    "len(common_elements_list)\n",
    "common_elements_list[:2]"
   ]
  },
  {
   "cell_type": "code",
   "execution_count": 86,
   "id": "4ef1961f",
   "metadata": {},
   "outputs": [
    {
     "data": {
      "text/plain": [
       "872"
      ]
     },
     "execution_count": 86,
     "metadata": {},
     "output_type": "execute_result"
    }
   ],
   "source": [
    "len(l_nsd[7])"
   ]
  },
  {
   "cell_type": "code",
   "execution_count": 157,
   "id": "3f04fda1",
   "metadata": {},
   "outputs": [
    {
     "data": {
      "text/plain": [
       "872"
      ]
     },
     "execution_count": 157,
     "metadata": {},
     "output_type": "execute_result"
    }
   ],
   "source": [
    "len(common_elements_list)"
   ]
  },
  {
   "cell_type": "code",
   "execution_count": 47,
   "id": "866110ff",
   "metadata": {},
   "outputs": [],
   "source": [
    "non_common_indices = [[index for index, item in enumerate(lst) if item not in common_elements] for lst in l_nsd]"
   ]
  },
  {
   "cell_type": "code",
   "execution_count": 91,
   "id": "0aefd349",
   "metadata": {},
   "outputs": [
    {
     "data": {
      "text/plain": [
       "399"
      ]
     },
     "execution_count": 91,
     "metadata": {},
     "output_type": "execute_result"
    }
   ],
   "source": [
    "len(non_common_indices[0])"
   ]
  },
  {
   "cell_type": "code",
   "execution_count": 53,
   "id": "c4e538d2",
   "metadata": {},
   "outputs": [
    {
     "data": {
      "text/plain": [
       "'train-0313_nsd-02950.png'"
      ]
     },
     "execution_count": 53,
     "metadata": {},
     "output_type": "execute_result"
    }
   ],
   "source": [
    "l_full[2][0]"
   ]
  },
  {
   "cell_type": "code",
   "execution_count": 160,
   "id": "3910e4b3",
   "metadata": {},
   "outputs": [],
   "source": [
    "filtered_lists = [[item for index, item in enumerate(lst) if index not in non_common_indices[idx]] for idx, lst in enumerate(l_full)]\n"
   ]
  },
  {
   "cell_type": "code",
   "execution_count": 165,
   "id": "d9a74552",
   "metadata": {},
   "outputs": [
    {
     "data": {
      "text/plain": [
       "['train-0406_nsd-02950.png',\n",
       " 'train-0412_nsd-02990.png',\n",
       " 'train-0419_nsd-03049.png',\n",
       " 'train-0423_nsd-03077.png',\n",
       " 'train-0431_nsd-03146.png',\n",
       " 'train-0432_nsd-03157.png',\n",
       " 'train-0436_nsd-03164.png',\n",
       " 'train-0439_nsd-03171.png',\n",
       " 'train-0472_nsd-03386.png',\n",
       " 'train-0483_nsd-03434.png']"
      ]
     },
     "execution_count": 165,
     "metadata": {},
     "output_type": "execute_result"
    }
   ],
   "source": [
    "filtered_lists[1][:10]"
   ]
  },
  {
   "cell_type": "code",
   "execution_count": 181,
   "id": "409fafd9",
   "metadata": {},
   "outputs": [],
   "source": [
    "base_path = \"algonauts_data/subj01/updated/\"\n",
    "filtered_list = filtered_lists[0]\n",
    "img_path = base_path + \"img\"\n",
    "trash_path = base_path + \"trash\"\n",
    "os.makedirs(trash_path, exist_ok=True)\n",
    "source_files = os.listdir(img_path)\n",
    "for filename in source_files:\n",
    "    if filename not in filtered_list:\n",
    "        source_path = os.path.join(img_path, filename)\n",
    "        destination_path = os.path.join(trash_path, filename)\n",
    "        shutil.move(source_path, destination_path)"
   ]
  },
  {
   "cell_type": "code",
   "execution_count": 198,
   "id": "530ccca3",
   "metadata": {},
   "outputs": [],
   "source": [
    "base_path = \"algonauts_data/subj01/updated/\""
   ]
  },
  {
   "cell_type": "code",
   "execution_count": 199,
   "id": "4f2f5c30",
   "metadata": {},
   "outputs": [
    {
     "data": {
      "text/plain": [
       "110"
      ]
     },
     "execution_count": 199,
     "metadata": {},
     "output_type": "execute_result"
    }
   ],
   "source": [
    "len(non_common_indices[0])"
   ]
  },
  {
   "cell_type": "code",
   "execution_count": 200,
   "id": "84ebe8c4",
   "metadata": {},
   "outputs": [],
   "source": [
    "lh_fmri = np.load(base_path + \"lh_fmri.npy\")\n",
    "rh_fmri = np.load(base_path + \"rh_fmri.npy\")\n",
    "lh_fmri_upd = np.delete(lh_fmri, non_common_indices[0], axis=0)\n",
    "rh_fmri_upd = np.delete(rh_fmri, non_common_indices[0], axis=0)\n",
    "np.save(base_path + \"lh_fmri_upd.npy\", lh_fmri_upd)\n",
    "np.save(base_path + \"rh_fmri_upd.npy\", rh_fmri_upd)"
   ]
  },
  {
   "cell_type": "code",
   "execution_count": 189,
   "id": "f52440a8",
   "metadata": {},
   "outputs": [
    {
     "data": {
      "text/plain": [
       "(872, 20544)"
      ]
     },
     "execution_count": 189,
     "metadata": {},
     "output_type": "execute_result"
    }
   ],
   "source": [
    "rh_fmri_upd.shape"
   ]
  },
  {
   "cell_type": "code",
   "execution_count": 193,
   "id": "85881d58",
   "metadata": {},
   "outputs": [],
   "source": [
    "def update_fmri_data(base_path, filtered_list, non_comm_idx):\n",
    "    img_path = base_path + \"img\"\n",
    "    trash_path = base_path + \"trash\"\n",
    "    os.makedirs(trash_path, exist_ok=True)\n",
    "    source_files = os.listdir(img_path)\n",
    "    for filename in source_files:\n",
    "        if filename not in filtered_list:\n",
    "            source_path = os.path.join(img_path, filename)\n",
    "            destination_path = os.path.join(trash_path, filename)\n",
    "            shutil.move(source_path, destination_path)\n",
    "    lh_fmri = np.load(base_path + \"lh_fmri.npy\")\n",
    "    rh_fmri = np.load(base_path + \"rh_fmri.npy\")\n",
    "    lh_fmri_upd = np.delete(lh_fmri, non_comm_idx, axis=0)\n",
    "    rh_fmri_upd = np.delete(rh_fmri, non_comm_idx, axis=0)\n",
    "    print(lh_fmri_upd.shape)\n",
    "    np.save(base_path + \"lh_fmri_upd.npy\", lh_fmri_upd)\n",
    "    np.save(base_path + \"rh_fmri_upd.npy\", rh_fmri_upd)"
   ]
  },
  {
   "cell_type": "code",
   "execution_count": 192,
   "id": "6dc4ee40",
   "metadata": {},
   "outputs": [
    {
     "data": {
      "text/plain": [
       "['subj02', 'subj03', 'subj04', 'subj05', 'subj06', 'subj07', 'subj08']"
      ]
     },
     "execution_count": 192,
     "metadata": {},
     "output_type": "execute_result"
    }
   ],
   "source": [
    "all_sub = [f\"subj0{i}\" for i in range(2,9)]\n",
    "all_sub"
   ]
  },
  {
   "cell_type": "code",
   "execution_count": 196,
   "id": "ce5fd6c8",
   "metadata": {},
   "outputs": [
    {
     "name": "stdout",
     "output_type": "stream",
     "text": [
      "1\n",
      "(872, 19004)\n",
      "2\n",
      "(872, 19004)\n",
      "3\n",
      "(872, 19004)\n",
      "4\n",
      "(872, 19004)\n",
      "5\n",
      "(872, 18978)\n",
      "6\n",
      "(872, 19004)\n",
      "7\n",
      "(872, 18981)\n"
     ]
    }
   ],
   "source": [
    "for i, sub in enumerate(all_sub):\n",
    "    base_path = f\"algonauts_data/{sub}/updated/\"\n",
    "    print(i+1)\n",
    "    filtered_list = filtered_lists[i+1]\n",
    "    non_common_idx = non_common_indices[i+1]\n",
    "    update_fmri_data(base_path, filtered_list, non_common_idx)"
   ]
  },
  {
   "cell_type": "code",
   "execution_count": 201,
   "id": "51baefee",
   "metadata": {},
   "outputs": [
    {
     "data": {
      "text/plain": [
       "['lh.streams_challenge_space.npy',\n",
       " 'rh.all-vertices_fsaverage_space.npy',\n",
       " 'lh.floc-words_challenge_space.npy',\n",
       " 'rh.floc-places_challenge_space.npy',\n",
       " 'rh.floc-faces_fsaverage_space.npy',\n",
       " 'lh.floc-bodies_fsaverage_space.npy',\n",
       " 'lh.floc-faces_fsaverage_space.npy',\n",
       " 'rh.floc-words_challenge_space.npy',\n",
       " 'lh.floc-faces_challenge_space.npy',\n",
       " 'rh.floc-words_fsaverage_space.npy',\n",
       " 'lh.floc-bodies_challenge_space.npy',\n",
       " 'lh.all-vertices_fsaverage_space.npy',\n",
       " 'rh.floc-places_fsaverage_space.npy',\n",
       " 'mapping_prf-visualrois.npy',\n",
       " 'lh.floc-words_fsaverage_space.npy',\n",
       " 'rh.floc-faces_challenge_space.npy',\n",
       " 'mapping_floc-bodies.npy',\n",
       " 'mapping_floc-words.npy',\n",
       " 'mapping_floc-places.npy',\n",
       " 'lh.streams_fsaverage_space.npy',\n",
       " 'mapping_floc-faces.npy',\n",
       " 'rh.prf-visualrois_fsaverage_space.npy',\n",
       " 'rh.streams_fsaverage_space.npy',\n",
       " 'lh.floc-places_challenge_space.npy',\n",
       " 'lh.prf-visualrois_fsaverage_space.npy',\n",
       " 'rh.floc-bodies_fsaverage_space.npy',\n",
       " 'mapping_streams.npy',\n",
       " 'rh.floc-bodies_challenge_space.npy',\n",
       " 'rh.streams_challenge_space.npy',\n",
       " 'lh.prf-visualrois_challenge_space.npy',\n",
       " 'lh.floc-places_fsaverage_space.npy',\n",
       " 'rh.prf-visualrois_challenge_space.npy']"
      ]
     },
     "execution_count": 201,
     "metadata": {},
     "output_type": "execute_result"
    }
   ],
   "source": [
    "os.listdir(\"algonauts_data/subj01/roi_masks/\")"
   ]
  },
  {
   "cell_type": "code",
   "execution_count": 6,
   "id": "11be4628",
   "metadata": {},
   "outputs": [],
   "source": [
    "roi_map = np.load(\"algonauts_data/subj01/roi_masks/mapping_prf-visualrois.npy\", allow_pickle=True).item()"
   ]
  },
  {
   "cell_type": "code",
   "execution_count": 7,
   "id": "55fc526c",
   "metadata": {},
   "outputs": [],
   "source": [
    "challenge = np.load(\"algonauts_data/subj01/roi_masks/lh.prf-visualrois_challenge_space.npy\")"
   ]
  },
  {
   "cell_type": "code",
   "execution_count": 8,
   "id": "c5d8cf63",
   "metadata": {},
   "outputs": [],
   "source": [
    "fsaverage = np.load(\"algonauts_data/subj01/roi_masks/lh.prf-visualrois_fsaverage_space.npy\")"
   ]
  },
  {
   "cell_type": "code",
   "execution_count": 9,
   "id": "79ee84ac",
   "metadata": {},
   "outputs": [
    {
     "data": {
      "text/plain": [
       "(dict_keys([0, 1, 2, 3, 4, 5, 6, 7]), (19004,), (163842,))"
      ]
     },
     "execution_count": 9,
     "metadata": {},
     "output_type": "execute_result"
    }
   ],
   "source": [
    "roi_map.keys(), challenge.shape, fsaverage.shape"
   ]
  },
  {
   "cell_type": "code",
   "execution_count": 2,
   "id": "8e1de2e8",
   "metadata": {},
   "outputs": [
    {
     "ename": "NameError",
     "evalue": "name 'lh_fmri_upd' is not defined",
     "output_type": "error",
     "traceback": [
      "\u001b[0;31m---------------------------------------------------------------------------\u001b[0m",
      "\u001b[0;31mNameError\u001b[0m                                 Traceback (most recent call last)",
      "Cell \u001b[0;32mIn[2], line 1\u001b[0m\n\u001b[0;32m----> 1\u001b[0m \u001b[43mlh_fmri_upd\u001b[49m\u001b[38;5;241m.\u001b[39mshape\n",
      "\u001b[0;31mNameError\u001b[0m: name 'lh_fmri_upd' is not defined"
     ]
    }
   ],
   "source": [
    "lh_fmri_upd.shape"
   ]
  },
  {
   "cell_type": "code",
   "execution_count": 10,
   "id": "04ffda11",
   "metadata": {},
   "outputs": [],
   "source": [
    "roi_mapping = list(roi_map.keys())[list(roi_map.values()).index(\"V1v\")]"
   ]
  },
  {
   "cell_type": "code",
   "execution_count": 11,
   "id": "c004c402",
   "metadata": {},
   "outputs": [],
   "source": [
    "challenge_roi = np.asarray(challenge == roi_mapping, dtype=int)"
   ]
  },
  {
   "cell_type": "code",
   "execution_count": 12,
   "id": "179d7df0",
   "metadata": {},
   "outputs": [
    {
     "data": {
      "text/plain": [
       "array([0, 1])"
      ]
     },
     "execution_count": 12,
     "metadata": {},
     "output_type": "execute_result"
    }
   ],
   "source": [
    "np.unique(challenge_roi)"
   ]
  },
  {
   "cell_type": "code",
   "execution_count": 263,
   "id": "92f97be0",
   "metadata": {},
   "outputs": [],
   "source": [
    "fsaverage_roi = np.asarray(fsaverage == roi_mapping, dtype=int)\n"
   ]
  },
  {
   "cell_type": "code",
   "execution_count": 264,
   "id": "28db212c",
   "metadata": {},
   "outputs": [],
   "source": [
    "fsaverage_response = np.zeros(len(fsaverage_roi))"
   ]
  },
  {
   "cell_type": "code",
   "execution_count": 5,
   "id": "4ceb231f",
   "metadata": {},
   "outputs": [],
   "source": [
    "lh_fmri = np.load(\"algonauts_data/subj01/updated/lh_fmri_upd.npy\")"
   ]
  },
  {
   "cell_type": "code",
   "execution_count": 13,
   "id": "45ddd719",
   "metadata": {},
   "outputs": [
    {
     "data": {
      "text/plain": [
       "(872, 710)"
      ]
     },
     "execution_count": 13,
     "metadata": {},
     "output_type": "execute_result"
    }
   ],
   "source": [
    "lh_fmri[:, np.where(challenge_roi)[0]].shape"
   ]
  },
  {
   "cell_type": "code",
   "execution_count": null,
   "id": "78710b50",
   "metadata": {},
   "outputs": [],
   "source": [
    "fsaverage_response[np.where(fsaverage_roi)[0]] = lh_fmri[img,np.where(challenge_roi)[0]]"
   ]
  },
  {
   "cell_type": "code",
   "execution_count": 274,
   "id": "2aa09d36",
   "metadata": {},
   "outputs": [
    {
     "data": {
      "text/plain": [
       "(710,)"
      ]
     },
     "execution_count": 274,
     "metadata": {},
     "output_type": "execute_result"
    }
   ],
   "source": [
    "fsaverage_response[np.where(fsaverage_roi)[0]].shape"
   ]
  },
  {
   "cell_type": "code",
   "execution_count": null,
   "id": "4a5ccf5d",
   "metadata": {},
   "outputs": [],
   "source": []
  }
 ],
 "metadata": {
  "kernelspec": {
   "display_name": "Python 3 (ipykernel)",
   "language": "python",
   "name": "python3"
  },
  "language_info": {
   "codemirror_mode": {
    "name": "ipython",
    "version": 3
   },
   "file_extension": ".py",
   "mimetype": "text/x-python",
   "name": "python",
   "nbconvert_exporter": "python",
   "pygments_lexer": "ipython3",
   "version": "3.9.15"
  }
 },
 "nbformat": 4,
 "nbformat_minor": 5
}
